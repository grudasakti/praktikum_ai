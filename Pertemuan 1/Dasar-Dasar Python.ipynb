{
  "cells": [
    {
      "cell_type": "markdown",
      "metadata": {
        "id": "h3BS_shaItxo"
      },
      "source": [
        "### print hello world\n",
        "\n"
      ]
    },
    {
      "cell_type": "code",
      "execution_count": 1,
      "metadata": {
        "colab": {
          "base_uri": "https://localhost:8080/"
        },
        "id": "EGu0OZx8H_B4",
        "outputId": "238bcaa0-e548-41e4-eca6-5765ffa8fd92"
      },
      "outputs": [
        {
          "name": "stdout",
          "output_type": "stream",
          "text": [
            "hello world\n"
          ]
        }
      ],
      "source": [
        "print(\"hello world\")"
      ]
    },
    {
      "cell_type": "markdown",
      "metadata": {
        "id": "P7XDXsjrI0hT"
      },
      "source": [
        "### variabel"
      ]
    },
    {
      "cell_type": "code",
      "execution_count": 2,
      "metadata": {
        "colab": {
          "base_uri": "https://localhost:8080/"
        },
        "id": "8nacdtcLIJLK",
        "outputId": "6f56e955-3b4b-4288-8c26-f5f2e05ec8b9"
      },
      "outputs": [
        {
          "name": "stdout",
          "output_type": "stream",
          "text": [
            "10\n",
            "2.5\n",
            "kecerdasan buatan\n",
            "False\n"
          ]
        }
      ],
      "source": [
        "# integer\n",
        "angka = 10\n",
        "print(angka)\n",
        "\n",
        "# float\n",
        "bil_pecahan = 2.5\n",
        "print(bil_pecahan)\n",
        "\n",
        "# string\n",
        "kalimat = \"kecerdasan buatan\"\n",
        "print(kalimat)\n",
        "\n",
        "# boolean\n",
        "kondisi = False\n",
        "print(kondisi)"
      ]
    },
    {
      "cell_type": "markdown",
      "metadata": {
        "id": "YVl8NQoEKLQz"
      },
      "source": [
        "### tipe data"
      ]
    },
    {
      "cell_type": "code",
      "execution_count": 3,
      "metadata": {
        "colab": {
          "base_uri": "https://localhost:8080/"
        },
        "id": "D9y1MeCfKNdQ",
        "outputId": "332a3087-0b44-4f41-99c5-154fd7c6329c"
      },
      "outputs": [
        {
          "name": "stdout",
          "output_type": "stream",
          "text": [
            "10\n",
            "10 tipe datanya:  <class 'int'>\n",
            "2.5\n",
            "2.5 tipe datanya:  <class 'float'>\n",
            "kecerdasan buatan\n",
            "kecerdasan buatan tipe datanya:  <class 'str'>\n",
            "False\n",
            "False tipe datanya:  <class 'bool'>\n"
          ]
        }
      ],
      "source": [
        "# integer\n",
        "angka = 10\n",
        "print(angka)\n",
        "print(angka, \"tipe datanya: \", type(angka))\n",
        "\n",
        "# float\n",
        "bil_pecahan = 2.5\n",
        "print(bil_pecahan)\n",
        "print(bil_pecahan, \"tipe datanya: \", type(bil_pecahan))\n",
        "\n",
        "# string\n",
        "kalimat = \"kecerdasan buatan\"\n",
        "print(kalimat)\n",
        "print(kalimat, \"tipe datanya: \", type(kalimat))\n",
        "\n",
        "# boolean\n",
        "kondisi = False\n",
        "print(kondisi)\n",
        "print(kondisi, \"tipe datanya: \", type(kondisi))"
      ]
    },
    {
      "cell_type": "markdown",
      "metadata": {
        "id": "STlEOJUxLZzQ"
      },
      "source": [
        "### string"
      ]
    },
    {
      "cell_type": "code",
      "execution_count": 6,
      "metadata": {
        "colab": {
          "base_uri": "https://localhost:8080/"
        },
        "id": "HdsNHe8ELdH-",
        "outputId": "95d0bb69-a27f-4551-b679-46485150909e"
      },
      "outputs": [
        {
          "name": "stdout",
          "output_type": "stream",
          "text": [
            "10\n",
            "2.5\n",
            "\n",
            "\n",
            "Nama saya ai\n",
            "N\n",
            "i\n",
            "saya\n",
            "Nama\n"
          ]
        }
      ],
      "source": [
        "# print dari block code yg lain\n",
        "print(angka)\n",
        "print(bil_pecahan)\n",
        "print(\"\\n\")\n",
        "\n",
        "kalimat = \"Nama saya ai\"\n",
        "print(kalimat)\n",
        "print(kalimat[0]) # print karakter pertama\n",
        "print(kalimat[-1]) # print karakter terakhir\n",
        "print(kalimat[5:9]) # print dari indeks 5 - 8\n",
        "print(kalimat[:4]) # print dari indeks 0 - 3"
      ]
    },
    {
      "cell_type": "markdown",
      "metadata": {
        "id": "qKDiFyZpNReF"
      },
      "source": [
        "### list"
      ]
    },
    {
      "cell_type": "code",
      "execution_count": 8,
      "metadata": {
        "colab": {
          "base_uri": "https://localhost:8080/"
        },
        "id": "CPnDSYslNTnb",
        "outputId": "07907c69-bdda-489b-e951-e6b474a2570c"
      },
      "outputs": [
        {
          "name": "stdout",
          "output_type": "stream",
          "text": [
            "[5, 'sepuluh', 15.5, 20, [1, 2, 3]]\n",
            "sepuluh\n",
            "2\n",
            "[5, 'sepuluh', 15.5]\n",
            "[20, [1, 2, 3]]\n",
            "[2, 'sepuluh', 15.5, 20, [1, 2, 3]]\n",
            "[2, 'sepuluh', 15.5, [1, 2, 3]]\n",
            "<class 'str'>\n",
            "<class 'float'>\n"
          ]
        }
      ],
      "source": [
        "tipe_list = [5, 'sepuluh', 15.5, 20, [1, 2, 3]]\n",
        "print(tipe_list)\n",
        "\n",
        "# print indeks 1\n",
        "print(tipe_list[1])\n",
        "\n",
        "# print indeks [4][1]\n",
        "print(tipe_list[4][1])\n",
        "\n",
        "# print indeks 0-2\n",
        "print(tipe_list[:3])\n",
        "\n",
        "# print indeks 3 - terakhir\n",
        "print(tipe_list[3:])\n",
        "\n",
        "# merubah nilai indeks ke-0\n",
        "tipe_list[0] = 2\n",
        "print(tipe_list)\n",
        "\n",
        "# menghapus salah satu indeks\n",
        "tipe_list.remove(20)\n",
        "print(tipe_list)\n",
        "\n",
        "# mencetak tipe data\n",
        "print(type(tipe_list[1]))\n",
        "print(type(tipe_list[2]))"
      ]
    },
    {
      "cell_type": "markdown",
      "metadata": {
        "id": "7Rzm1rJ1QHax"
      },
      "source": [
        "### tuple"
      ]
    },
    {
      "cell_type": "code",
      "execution_count": 9,
      "metadata": {
        "colab": {
          "base_uri": "https://localhost:8080/"
        },
        "id": "vKcrI1MHQK9u",
        "outputId": "33d0ab22-4ea9-4f8d-a38c-902fb9e22add"
      },
      "outputs": [
        {
          "name": "stdout",
          "output_type": "stream",
          "text": [
            "(200, 5.5, 'halo', (1, 2))\n",
            "<class 'tuple'>\n",
            "halo\n",
            "2\n"
          ]
        }
      ],
      "source": [
        "tipe_tuple = (200, 5.5, 'halo', (1, 2))\n",
        "print(tipe_tuple)\n",
        "\n",
        "# mencetak jenis tipe data\n",
        "print(type(tipe_tuple))\n",
        "\n",
        "# print tuple indeks ke-2\n",
        "print(tipe_tuple[2])\n",
        "\n",
        "# print tuple indeks ke [3][1]\n",
        "print(tipe_tuple[3][1])\n",
        "\n",
        "# tuple tidak bisa dirubah nilai nya\n",
        "# tipe_tuple[0] = 300\n",
        "# print(tipe_tuple)"
      ]
    },
    {
      "cell_type": "markdown",
      "metadata": {
        "id": "aNSZC8rfRjqY"
      },
      "source": [
        "### set"
      ]
    },
    {
      "cell_type": "code",
      "execution_count": 10,
      "metadata": {
        "colab": {
          "base_uri": "https://localhost:8080/"
        },
        "id": "WbSp0UgnRmKc",
        "outputId": "648e951a-5c41-4141-e80d-430a2c59a358"
      },
      "outputs": [
        {
          "name": "stdout",
          "output_type": "stream",
          "text": [
            "{1, 2, 3, 'python'}\n",
            "<class 'set'>\n"
          ]
        }
      ],
      "source": [
        "tipe_set = {'python', 3, 2, 1, 2}\n",
        "print(tipe_set)\n",
        "\n",
        "# print jenis tipe data\n",
        "print(type(tipe_set))"
      ]
    },
    {
      "cell_type": "markdown",
      "metadata": {
        "id": "O6fahvS4Tn-b"
      },
      "source": [
        "### dictionary"
      ]
    },
    {
      "cell_type": "code",
      "execution_count": 11,
      "metadata": {
        "colab": {
          "base_uri": "https://localhost:8080/"
        },
        "id": "zdzrDiOETrNF",
        "outputId": "c027299a-3a21-4556-f348-e10a34306029"
      },
      "outputs": [
        {
          "name": "stdout",
          "output_type": "stream",
          "text": [
            "{'satu': 4, 5: 10}\n",
            "<class 'dict'>\n",
            "4\n",
            "10\n"
          ]
        }
      ],
      "source": [
        "tipe_dictionary = {'satu':4, 5:10}\n",
        "print(tipe_dictionary)\n",
        "\n",
        "# print jenis tipe data\n",
        "print(type(tipe_dictionary))\n",
        "\n",
        "# print key/kunci 'satu'\n",
        "print(tipe_dictionary['satu'])\n",
        "\n",
        "# print key/kunci 5\n",
        "print(tipe_dictionary[5])"
      ]
    },
    {
      "cell_type": "markdown",
      "metadata": {},
      "source": [
        "### percabangan"
      ]
    },
    {
      "cell_type": "code",
      "execution_count": 1,
      "metadata": {},
      "outputs": [
        {
          "name": "stdout",
          "output_type": "stream",
          "text": [
            "bilangan negatif\n"
          ]
        }
      ],
      "source": [
        "angka = -1\n",
        "\n",
        "if angka > 0:\n",
        "    print(angka, \"bilangan positif\")\n",
        "else:\n",
        "    print(\"bilangan negatif\")"
      ]
    },
    {
      "cell_type": "code",
      "execution_count": 2,
      "metadata": {},
      "outputs": [
        {
          "name": "stdout",
          "output_type": "stream",
          "text": [
            "nol\n"
          ]
        }
      ],
      "source": [
        "angka = 0\n",
        "\n",
        "if angka > 0:\n",
        "    print(angka, \"bilangan positif\")\n",
        "elif angka == 0:\n",
        "    print(\"nol\")\n",
        "else:\n",
        "    print(\"bilangan negatif\")"
      ]
    },
    {
      "cell_type": "markdown",
      "metadata": {},
      "source": [
        "### for"
      ]
    },
    {
      "cell_type": "code",
      "execution_count": 3,
      "metadata": {},
      "outputs": [
        {
          "name": "stdout",
          "output_type": "stream",
          "text": [
            "sekarang adalah angka : 1\n",
            "sekarang adalah angka : 2\n",
            "sekarang adalah angka : 3\n",
            "sekarang adalah angka : 4\n",
            "sekarang adalah angka : 5\n"
          ]
        }
      ],
      "source": [
        "numbers = [1,2,3,4,5]\n",
        "\n",
        "for i in numbers:\n",
        "    print(\"sekarang adalah angka :\", i)"
      ]
    },
    {
      "cell_type": "code",
      "execution_count": 4,
      "metadata": {},
      "outputs": [
        {
          "name": "stdout",
          "output_type": "stream",
          "text": [
            "jumlah semuanya:  15\n"
          ]
        }
      ],
      "source": [
        "numbers = [1,2,3,4,5]\n",
        "\n",
        "jumlah = 0\n",
        "\n",
        "for i in numbers:\n",
        "    jumlah = jumlah + i\n",
        "\n",
        "print(\"jumlah semuanya: \", jumlah)"
      ]
    },
    {
      "cell_type": "code",
      "execution_count": 6,
      "metadata": {},
      "outputs": [
        {
          "name": "stdout",
          "output_type": "stream",
          "text": [
            "hello world ke - 0\n",
            "hello world ke - 1\n",
            "hello world ke - 2\n",
            "hello world ke - 3\n",
            "hello world ke - 4\n",
            "hello world ke - 5\n",
            "hello world ke - 6\n",
            "hello world ke - 7\n",
            "hello world ke - 8\n",
            "hello world ke - 9\n"
          ]
        }
      ],
      "source": [
        "for i in range(10):\n",
        "    print(\"hello world ke -\",i)"
      ]
    },
    {
      "cell_type": "code",
      "execution_count": 9,
      "metadata": {},
      "outputs": [
        {
          "name": "stdout",
          "output_type": "stream",
          "text": [
            "huruf sekarang: p\n",
            "huruf sekarang: r\n",
            "huruf sekarang: o\n"
          ]
        }
      ],
      "source": [
        "for letter in \"programming\":\n",
        "    if letter == \"g\":\n",
        "        break\n",
        "    print(\"huruf sekarang:\", letter)"
      ]
    },
    {
      "cell_type": "markdown",
      "metadata": {},
      "source": [
        "### while"
      ]
    },
    {
      "cell_type": "code",
      "execution_count": 7,
      "metadata": {},
      "outputs": [
        {
          "name": "stdout",
          "output_type": "stream",
          "text": [
            "0\n",
            "1\n",
            "2\n",
            "3\n",
            "4\n"
          ]
        }
      ],
      "source": [
        "a = 0\n",
        "while a < 5:\n",
        "    print(a)\n",
        "    a += 1"
      ]
    },
    {
      "cell_type": "code",
      "execution_count": 8,
      "metadata": {},
      "outputs": [
        {
          "name": "stdout",
          "output_type": "stream",
          "text": [
            "0\n",
            "1\n",
            "2\n",
            "3\n",
            "4\n",
            "5 tidak kurang dari 5\n"
          ]
        }
      ],
      "source": [
        "a = 0\n",
        "while a < 5:\n",
        "    print(a)\n",
        "    a += 1\n",
        "else:\n",
        "    print(a,\"tidak kurang dari 5\")"
      ]
    },
    {
      "cell_type": "markdown",
      "metadata": {},
      "source": [
        "### inputan"
      ]
    },
    {
      "cell_type": "code",
      "execution_count": 11,
      "metadata": {},
      "outputs": [
        {
          "name": "stdout",
          "output_type": "stream",
          "text": [
            "kecerdasan buatan\n",
            "<class 'str'>\n"
          ]
        }
      ],
      "source": [
        "name = input(\"masukan nama: \")\n",
        "print(name)\n",
        "print(type(name))"
      ]
    },
    {
      "cell_type": "code",
      "execution_count": 13,
      "metadata": {},
      "outputs": [
        {
          "name": "stdout",
          "output_type": "stream",
          "text": [
            "5\n",
            "8\n",
            "luas =  40\n",
            "<class 'int'>\n"
          ]
        }
      ],
      "source": [
        "panjang = int(input(\"masukan nilai panjang: \"))\n",
        "lebar = int(input(\"masukkan nilai lebar: \"))\n",
        "luas = panjang * lebar\n",
        "print(panjang)\n",
        "print(lebar)\n",
        "print(\"luas = \", luas)\n",
        "print(type(panjang))"
      ]
    }
  ],
  "metadata": {
    "colab": {
      "name": "Pertemuan1.ipynb",
      "provenance": []
    },
    "kernelspec": {
      "display_name": "Python 3",
      "name": "python3"
    },
    "language_info": {
      "codemirror_mode": {
        "name": "ipython",
        "version": 3
      },
      "file_extension": ".py",
      "mimetype": "text/x-python",
      "name": "python",
      "nbconvert_exporter": "python",
      "pygments_lexer": "ipython3",
      "version": "3.10.2"
    }
  },
  "nbformat": 4,
  "nbformat_minor": 0
}
