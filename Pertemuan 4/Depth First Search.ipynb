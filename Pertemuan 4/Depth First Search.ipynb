{
  "nbformat": 4,
  "nbformat_minor": 0,
  "metadata": {
    "colab": {
      "name": "DFS.ipynb",
      "provenance": []
    },
    "kernelspec": {
      "name": "python3",
      "display_name": "Python 3"
    },
    "language_info": {
      "name": "python"
    }
  },
  "cells": [
    {
      "cell_type": "code",
      "source": [
        "vertexList = ['0', '1', '2', '3', '4', '5', '6']\n",
        "edgeList = [(0,1), (0,2), (1,0) , (1,3) , (2,0) , (2,4) , (2,5) , (3,1), (4,2) , (4,6), (5,2), (6,4)]\n",
        "graphs = (vertexList, edgeList)\n",
        "\n",
        "def dfs(graph, start):\n",
        "    vertexList, edgeList = graph\n",
        "    visitedVertex = []\n",
        "    stack = [start]\n",
        "    adjacencyList = [[] for vertex in vertexList]\n",
        "    \n",
        "    for edge in edgeList:\n",
        "        adjacencyList[edge[0]].append(edge[1])\n",
        "\n",
        "    while stack:\n",
        "        current = stack.pop()\n",
        "        for neighbor in adjacencyList[current]:\n",
        "            if not neighbor in visitedVertex:\n",
        "                stack.append(neighbor)\n",
        "        visitedVertex.append(current)\n",
        "    return visitedVertex\n",
        "\n",
        "print(dfs(graphs, 0))"
      ],
      "metadata": {
        "colab": {
          "base_uri": "https://localhost:8080/"
        },
        "id": "UOykE6Ja0Kay",
        "outputId": "d2927ffd-75f0-49db-e9dd-da2356e2b972"
      },
      "execution_count": null,
      "outputs": [
        {
          "output_type": "stream",
          "name": "stdout",
          "text": [
            "[[], [], [], [], [], [], []]\n",
            "[0, 2, 5, 4, 6, 1, 3]\n"
          ]
        }
      ]
    },
    {
      "cell_type": "code",
      "source": [
        "graph1 = {\n",
        "    'A' : ['B','C','D'],\n",
        "    'B' : ['E','F'],\n",
        "    'E' : ['B'],\n",
        "    'F' : ['B'],\n",
        "    'C' : ['A'],\n",
        "    'D' : ['A'],\n",
        " \n",
        "}\n",
        "\n",
        "def dfs(graph1, node, visited):\n",
        "    if node not in visited:\n",
        "        print(node)\n",
        "        visited.append(node)\n",
        "        for n in graph1[node]:\n",
        "            dfs(graph1, n, visited)\n",
        "    return visited\n",
        "\n",
        "visited = dfs(graph1,'A', [])\n",
        "print(visited)"
      ],
      "metadata": {
        "colab": {
          "base_uri": "https://localhost:8080/"
        },
        "id": "ImnppqIs586b",
        "outputId": "b98f8854-af34-40aa-bf87-f30c81668760"
      },
      "execution_count": null,
      "outputs": [
        {
          "output_type": "stream",
          "name": "stdout",
          "text": [
            "A\n",
            "B\n",
            "E\n",
            "F\n",
            "C\n",
            "D\n",
            "['A', 'B', 'E', 'F', 'C', 'D']\n"
          ]
        }
      ]
    }
  ]
}