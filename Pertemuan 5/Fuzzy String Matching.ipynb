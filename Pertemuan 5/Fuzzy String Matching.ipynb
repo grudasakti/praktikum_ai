{
  "cells": [
    {
      "cell_type": "markdown",
      "metadata": {
        "id": "RLNNeW1dVgkh"
      },
      "source": [
        "install library fuzzywuzzy"
      ]
    },
    {
      "cell_type": "code",
      "execution_count": null,
      "metadata": {
        "colab": {
          "base_uri": "https://localhost:8080/"
        },
        "id": "gfbkYnkBQjJa",
        "outputId": "7cd94948-d77d-41eb-c6a1-055768c9bba6"
      },
      "outputs": [
        {
          "name": "stdout",
          "output_type": "stream",
          "text": [
            "Collecting fuzzywuzzy\n",
            "  Downloading fuzzywuzzy-0.18.0-py2.py3-none-any.whl (18 kB)\n",
            "Installing collected packages: fuzzywuzzy\n",
            "Successfully installed fuzzywuzzy-0.18.0\n"
          ]
        }
      ],
      "source": [
        "!pip install fuzzywuzzy"
      ]
    },
    {
      "cell_type": "markdown",
      "metadata": {
        "id": "nPucdV2SVyGu"
      },
      "source": [
        "import module"
      ]
    },
    {
      "cell_type": "code",
      "execution_count": null,
      "metadata": {
        "id": "ZnaID0JMV00-"
      },
      "outputs": [],
      "source": [
        "from fuzzywuzzy import fuzz"
      ]
    },
    {
      "cell_type": "markdown",
      "metadata": {
        "id": "4in9oSoeWHkk"
      },
      "source": [
        "ratio"
      ]
    },
    {
      "cell_type": "code",
      "execution_count": null,
      "metadata": {
        "colab": {
          "base_uri": "https://localhost:8080/"
        },
        "id": "29Szsr_LWJEd",
        "outputId": "95a4811e-be25-46a0-dc1c-2d22a30e99ad"
      },
      "outputs": [
        {
          "name": "stdout",
          "output_type": "stream",
          "text": [
            "rasionya : 55 %\n"
          ]
        }
      ],
      "source": [
        "# ratio : membandingkan kesamaan dari keseluruhan string\n",
        "rasio = fuzz.ratio('Salatiga','Salatiga hati beriman')\n",
        "print('rasionya :',rasio,'%')"
      ]
    },
    {
      "cell_type": "markdown",
      "metadata": {
        "id": "TvcS-zfuWyB-"
      },
      "source": [
        "partial ratio"
      ]
    },
    {
      "cell_type": "code",
      "execution_count": null,
      "metadata": {
        "colab": {
          "base_uri": "https://localhost:8080/"
        },
        "id": "aMR4zlrsW1RL",
        "outputId": "7b5a789d-dd02-4485-a4fe-c4b65857d036"
      },
      "outputs": [
        {
          "name": "stdout",
          "output_type": "stream",
          "text": [
            "parsial rasionya : 100 %\n"
          ]
        }
      ],
      "source": [
        "# partial_ratio : membandingkan kemiripan dari string secara parsial/sebagian\n",
        "parsial_rasio = fuzz.partial_ratio('Salatiga','Salatiga hati beriman')\n",
        "print('parsial rasionya :',parsial_rasio,'%')"
      ]
    },
    {
      "cell_type": "markdown",
      "metadata": {
        "id": "NnpSbzFlYAwr"
      },
      "source": [
        "token set ratio"
      ]
    },
    {
      "cell_type": "code",
      "execution_count": null,
      "metadata": {
        "colab": {
          "base_uri": "https://localhost:8080/"
        },
        "id": "ujVv7cx0YEiQ",
        "outputId": "b11f1849-4c59-4b7c-b332-8344a7515943"
      },
      "outputs": [
        {
          "name": "stdout",
          "output_type": "stream",
          "text": [
            "token set rasionya : 57 %\n"
          ]
        }
      ],
      "source": [
        "# token_set_ratio : membandingkan menggunakan ratio tanpa memperhatikan case sensitive\n",
        "set_ratio = fuzz.token_set_ratio('Salatiga','salatigahati beriman')\n",
        "print('token set rasionya :', set_ratio,'%')"
      ]
    },
    {
      "cell_type": "markdown",
      "metadata": {
        "id": "hrGOZDwvYpnh"
      },
      "source": [
        "partial token set rasio"
      ]
    },
    {
      "cell_type": "code",
      "execution_count": null,
      "metadata": {
        "colab": {
          "base_uri": "https://localhost:8080/"
        },
        "id": "HsEnWOVTYsyY",
        "outputId": "a1f86fc2-79c0-490a-b0be-d0c1a46dc1c1"
      },
      "outputs": [
        {
          "name": "stdout",
          "output_type": "stream",
          "text": [
            "partial token set rasionya : 100 %\n"
          ]
        }
      ],
      "source": [
        "# partial_token_set_ratio : membandingkan menggunakan partial tanpa memperhatikan case sensitive\n",
        "partial_set_ratio = fuzz.partial_token_set_ratio('Salatiga','salatigahati beriman')\n",
        "print('partial token set rasionya :',partial_set_ratio,'%')"
      ]
    },
    {
      "cell_type": "markdown",
      "metadata": {
        "id": "jR81p-YbaZLX"
      },
      "source": [
        "import library pandas"
      ]
    },
    {
      "cell_type": "code",
      "execution_count": null,
      "metadata": {
        "id": "s1GD9OhXaiom"
      },
      "outputs": [],
      "source": [
        "import pandas as pd"
      ]
    },
    {
      "cell_type": "markdown",
      "metadata": {
        "id": "cezvITWHarFM"
      },
      "source": [
        "mengambil dataset"
      ]
    },
    {
      "cell_type": "code",
      "execution_count": null,
      "metadata": {
        "colab": {
          "base_uri": "https://localhost:8080/"
        },
        "id": "ARBaqSvnauUG",
        "outputId": "59793d31-36cc-46bb-ed4c-a1b96e343a51"
      },
      "outputs": [
        {
          "name": "stdout",
          "output_type": "stream",
          "text": [
            "                                     Expedia                                        Booking.com\n",
            "0                    Deluxe Room, 1 King Bed                                   Deluxe King Room\n",
            "1      Standard Room, 1 King Bed, Accessible            Standard King Roll-in Shower Accessible\n",
            "2         Grand Corner King Room, 1 King Bed                             Grand Corner King Room\n",
            "3                 Suite, 1 King Bed (Parlor)                                  King Parlor Suite\n",
            "4        High-Floor Premium Room, 1 King Bed                       High-Floor Premium King Room\n",
            "5     Traditional Double Room, 2 Double Beds                   Double Room with Two Double Beds\n",
            "6               Room, 1 King Bed, Accessible                      King Room - Disability Access\n",
            "7                    Deluxe Room, 1 King Bed                                   Deluxe King Room\n",
            "8                                Deluxe Room                       Deluxe Room (Non Refundable)\n",
            "9  Room, 2 Double Beds (19th to 25th Floors)  Two Double Beds - Location Room (19th to 25th ...\n"
          ]
        }
      ],
      "source": [
        "# membaca data dan simpan ke variabel df/dataframe\n",
        "df = pd.read_csv('room_type.csv')\n",
        "print(df.head(10))"
      ]
    },
    {
      "cell_type": "markdown",
      "metadata": {
        "id": "4VMwiqbPc40i"
      },
      "source": [
        "fungsi membandingkan data"
      ]
    },
    {
      "cell_type": "code",
      "execution_count": null,
      "metadata": {
        "colab": {
          "base_uri": "https://localhost:8080/"
        },
        "id": "mk3bVcWYc8qI",
        "outputId": "80140d0e-9568-4d7e-b5dc-59595e593018"
      },
      "outputs": [
        {
          "data": {
            "text/plain": [
              "0     69\n",
              "1     65\n",
              "2    100\n",
              "3     65\n",
              "4     82\n",
              "5     83\n",
              "6     54\n",
              "7     69\n",
              "8    100\n",
              "9     63\n",
              "dtype: int64"
            ]
          },
          "execution_count": 22,
          "metadata": {},
          "output_type": "execute_result"
        }
      ],
      "source": [
        "def get_ratio(row):\n",
        "  string1 = row['Expedia']\n",
        "  string2 = row['Booking.com']\n",
        "  partial_rasio = fuzz.partial_ratio(string1, string2)\n",
        "  return partial_rasio\n",
        "\n",
        "rasionya = df.apply(get_ratio, axis=1)\n",
        "rasionya.head(10)"
      ]
    }
  ],
  "metadata": {
    "colab": {
      "name": "Fuzzy kelas E.ipynb",
      "provenance": []
    },
    "kernelspec": {
      "display_name": "Python 3",
      "name": "python3"
    },
    "language_info": {
      "name": "python",
      "version": "3.10.2"
    }
  },
  "nbformat": 4,
  "nbformat_minor": 0
}
