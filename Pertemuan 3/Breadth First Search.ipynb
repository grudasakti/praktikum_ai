{
  "nbformat": 4,
  "nbformat_minor": 0,
  "metadata": {
    "colab": {
      "name": "Untitled2.ipynb",
      "provenance": []
    },
    "kernelspec": {
      "name": "python3",
      "display_name": "Python 3"
    },
    "language_info": {
      "name": "python"
    }
  },
  "cells": [
    {
      "cell_type": "code",
      "execution_count": null,
      "metadata": {
        "colab": {
          "base_uri": "https://localhost:8080/"
        },
        "id": "AnHtLpDIYqh8",
        "outputId": "7fa0ca4e-e8f7-4c03-803a-67bd69d8cadc"
      },
      "outputs": [
        {
          "output_type": "stream",
          "name": "stdout",
          "text": [
            "[0, 1, 2, 3, 4, 5, 6]\n"
          ]
        }
      ],
      "source": [
        "# membuat vertex/node\n",
        "vertexList = [0, 1, 2, 3, 4, 5, 6]\n",
        "\n",
        "# membuat garis yang menghubungkan antar vertex\n",
        "edgeList = [ (0,1), (0,2), (1,0), (1,3), (2,0), (2,4), (2,5), (3,1), (4,2), (4,6), (5,2), (6,4) ] \n",
        "\n",
        "# menyimpan vertexList dan edgeList menjadi graphs\n",
        "graphs = (vertexList, edgeList)\n",
        "\n",
        "# membuat fungsi\n",
        "def bfs(graphs, start):\n",
        "  vertexList, edgeList = graphs\n",
        "  visitedList = []\n",
        "  queue = [start]\n",
        "\n",
        "  adjacencyList = [[] for vertex in vertexList]\n",
        "\n",
        "  # mengisi adjacency dari graph\n",
        "  for edge in edgeList:\n",
        "    adjacencyList[edge[0]].append(edge[1])\n",
        "\n",
        "  # bfs\n",
        "  while queue:\n",
        "    current = queue.pop(0)\n",
        "    for neighbor in adjacencyList[current]:\n",
        "      if not neighbor in visitedList:\n",
        "        queue.append(neighbor)\n",
        "    visitedList.append(current)\n",
        "  return visitedList\n",
        "\n",
        "# memanggil fungsi\n",
        "print(bfs(graphs, 0))\n"
      ]
    },
    {
      "cell_type": "code",
      "source": [
        "# mendefinisikan graf menggunakan dictionary\n",
        "graphs = {\n",
        "        0 : [1,2], # key = vertexList, value = adjacencyList/tetangganya\n",
        "        1 : [0,3],\n",
        "        2 : [0,4,5],\n",
        "        3 : [1],\n",
        "        4 : [2,6],\n",
        "        5 : [2],\n",
        "        6 : [4]\n",
        "    }\n",
        "\n",
        "def bfs(graphs, start):\n",
        "    visitedList = []\n",
        "    queue = [start]\n",
        "    \n",
        "    while queue:\n",
        "        current = queue.pop(0)\n",
        "        \n",
        "        if current not in visitedList:\n",
        "            visitedList.append(current)\n",
        "            neighbor = graphs[current]\n",
        "            for x in neighbor:\n",
        "                queue.append(x)\n",
        "    return visitedList\n",
        "\n",
        "# memanggil fungsi\n",
        "print(bfs(graphs, 0))"
      ],
      "metadata": {
        "colab": {
          "base_uri": "https://localhost:8080/"
        },
        "id": "YN2OLqnIkMPx",
        "outputId": "0cd07413-87fd-44ef-92bb-9f28e74dcbbc"
      },
      "execution_count": null,
      "outputs": [
        {
          "output_type": "stream",
          "name": "stdout",
          "text": [
            "[0, 1, 2, 3, 4, 5, 6]\n"
          ]
        }
      ]
    }
  ]
}