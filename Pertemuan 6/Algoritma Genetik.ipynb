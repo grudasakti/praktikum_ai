{
  "nbformat": 4,
  "nbformat_minor": 0,
  "metadata": {
    "colab": {
      "name": "Pertemuan 6 - AG.ipynb",
      "provenance": []
    },
    "kernelspec": {
      "name": "python3",
      "display_name": "Python 3"
    },
    "language_info": {
      "name": "python"
    }
  },
  "cells": [
    {
      "cell_type": "code",
      "metadata": {
        "id": "X-lpzRw8dzSE"
      },
      "source": [
        "import numpy as np, random, operator, pandas as pd, matplotlib.pyplot as plt"
      ],
      "execution_count": null,
      "outputs": []
    },
    {
      "cell_type": "code",
      "metadata": {
        "id": "EQZHvzD6d2hJ"
      },
      "source": [
        "class City:\n",
        "  def __init__(self, x, y):\n",
        "    self.x = x\n",
        "    self.y = y\n",
        "\n",
        "  def distance(self, city):\n",
        "    xDis = abs(self.x - city.x)\n",
        "    yDis = abs(self.y - city.y)\n",
        "    distance = np.sqrt((xDis ** 2) + (yDis ** 2))\n",
        "    return distance\n",
        "\n",
        "  def __repr__(self):\n",
        "    return \"(\" + str(self.x) + \",\" + str(self.y)+ \")\""
      ],
      "execution_count": null,
      "outputs": []
    },
    {
      "cell_type": "code",
      "metadata": {
        "colab": {
          "base_uri": "https://localhost:8080/"
        },
        "id": "Nxgbcnx5d_8D",
        "outputId": "b02bab48-85f5-41f1-dc2f-cd18a1984985"
      },
      "source": [
        "jmlKota = 6\n",
        "cityList = []\n",
        "\n",
        "for i in range(0,jmlKota):\n",
        "  cityList.append(City(x=int(random.random() * 200),\n",
        "    y=int(random.random() * 200)))\n",
        "  \n",
        "print (cityList)  "
      ],
      "execution_count": null,
      "outputs": [
        {
          "output_type": "stream",
          "name": "stdout",
          "text": [
            "[(65,183), (19,178), (170,63), (160,193), (30,25), (199,175)]\n"
          ]
        }
      ]
    },
    {
      "cell_type": "code",
      "metadata": {
        "colab": {
          "base_uri": "https://localhost:8080/"
        },
        "id": "y4RldbkWgJBT",
        "outputId": "31faadc9-88f5-4bf2-ec47-555d6e96cf3b"
      },
      "source": [
        "def createRoute(cityList):\n",
        "  route = random.sample(cityList, len(cityList))\n",
        "  return route\n",
        "  \n",
        "route = createRoute(cityList)\n",
        "print (\"rute :\", route)"
      ],
      "execution_count": null,
      "outputs": [
        {
          "output_type": "stream",
          "name": "stdout",
          "text": [
            "rute : [(199,175), (30,25), (170,63), (65,183), (19,178), (160,193)]\n"
          ]
        }
      ]
    },
    {
      "cell_type": "code",
      "metadata": {
        "colab": {
          "base_uri": "https://localhost:8080/"
        },
        "id": "j3Mp2cqTgNWi",
        "outputId": "2a9703fd-0a4c-4688-dfd9-48a4e4ca95c6"
      },
      "source": [
        "def initialPopulation(popSize, cityList):\n",
        "  population = []\n",
        "  for i in range(0, popSize):\n",
        "    population.append(createRoute(cityList))\n",
        "  return population\n",
        "popSize = 4\n",
        "pop = initialPopulation(popSize, cityList)\n",
        "print (\"populasi : \", pop)"
      ],
      "execution_count": null,
      "outputs": [
        {
          "output_type": "stream",
          "name": "stdout",
          "text": [
            "populasi :  [[(199,175), (19,178), (160,193), (170,63), (30,25), (65,183)], [(160,193), (19,178), (30,25), (65,183), (170,63), (199,175)], [(65,183), (19,178), (160,193), (30,25), (199,175), (170,63)], [(65,183), (30,25), (19,178), (199,175), (170,63), (160,193)]]\n"
          ]
        }
      ]
    },
    {
      "cell_type": "code",
      "metadata": {
        "colab": {
          "base_uri": "https://localhost:8080/"
        },
        "id": "Cn6Y9LkogT78",
        "outputId": "24a16b81-4108-4a04-8ec4-855161a2f342"
      },
      "source": [
        "class Fitness:\n",
        "  def __init__(self, route):\n",
        "    self.route = route\n",
        "    self.distance = 0\n",
        "    self.fitness= 0.0\n",
        "\n",
        "  def routeDistance(self):\n",
        "    if self.distance ==0:\n",
        "      pathDistance = 0\n",
        "      for i in range(0, len(self.route)):\n",
        "        fromCity = self.route[i]\n",
        "        toCity = None\n",
        "        if i + 1 < len(self.route):\n",
        "          toCity = self.route[i + 1]\n",
        "        else:\n",
        "          toCity = self.route[0]\n",
        "        pathDistance += fromCity.distance(toCity)\n",
        "      self.distance = pathDistance\n",
        "    return self.distance \n",
        "\n",
        "  def routeFitness(self):\n",
        "      if self.fitness == 0:\n",
        "        self.fitness = 1 / float(self.routeDistance())\n",
        "      return self.fitness\n",
        "\n",
        "fitnessResults = {}\n",
        "for i in range(0,len(pop)):\n",
        "  fitnessResults[i] = Fitness(pop[i]).routeFitness()\n",
        "print(\"fitness :\", fitnessResults)      \n"
      ],
      "execution_count": null,
      "outputs": [
        {
          "output_type": "stream",
          "name": "stdout",
          "text": [
            "fitness : {0: 0.0011193959748618887, 1: 0.0012901229665541376, 2: 0.0011091353312685291, 3: 0.001194953644729797}\n"
          ]
        }
      ]
    },
    {
      "cell_type": "code",
      "metadata": {
        "colab": {
          "base_uri": "https://localhost:8080/"
        },
        "id": "qDkqe-IkhZmC",
        "outputId": "fc6ac6cf-5ca8-4f5b-9c3c-788fcf8bc075"
      },
      "source": [
        "def rankRoutes(population):\n",
        "  fitnessResults = {}\n",
        "  for i in range(0,len(population)):\n",
        "    fitnessResults[i] = Fitness(population[i]).routeFitness()\n",
        "  return sorted(fitnessResults.items(), key = operator.itemgetter(1), reverse = True)\n",
        "  \n",
        "popRanked = rankRoutes(pop)\n",
        "print(\"rank Routes :\", popRanked)"
      ],
      "execution_count": null,
      "outputs": [
        {
          "output_type": "stream",
          "name": "stdout",
          "text": [
            "rank Routes : [(1, 0.0012901229665541376), (3, 0.001194953644729797), (0, 0.0011193959748618887), (2, 0.0011091353312685291)]\n"
          ]
        }
      ]
    },
    {
      "cell_type": "code",
      "metadata": {
        "colab": {
          "base_uri": "https://localhost:8080/"
        },
        "id": "uFEFCKMdh7f_",
        "outputId": "e371bed4-a926-4698-d986-8540c492fb85"
      },
      "source": [
        "def selection(popRanked, eliteSize):\n",
        "  selectionResults = []\n",
        "  df = pd.DataFrame(np.array(popRanked),\n",
        "    columns=[\"Index\",\"Fitness\"])\n",
        "  df['cum_sum'] = df.Fitness.cumsum()\n",
        "  df['cum_perc'] = 100*df.cum_sum/df.Fitness.sum()\n",
        "\n",
        "  for i in range(0, eliteSize):\n",
        "    selectionResults.append(popRanked[i][0])\n",
        "  for i in range(0, len(popRanked) - eliteSize):\n",
        "    pick = 100*random.random()\n",
        "    for i in range(0, len(popRanked)):\n",
        "      if pick <= df.iat[i,3]:\n",
        "           selectionResults.append(popRanked[i][0])\n",
        "           break\n",
        "  return selectionResults\n",
        "  \n",
        "eliteSize = 2\n",
        "selectionResults = selection(popRanked, eliteSize)\n",
        "print (\" selection results :\" , selectionResults)"
      ],
      "execution_count": null,
      "outputs": [
        {
          "output_type": "stream",
          "name": "stdout",
          "text": [
            " selection results : [1, 3, 2, 0]\n"
          ]
        }
      ]
    },
    {
      "cell_type": "code",
      "metadata": {
        "colab": {
          "base_uri": "https://localhost:8080/"
        },
        "id": "esjndAA_imcP",
        "outputId": "4389c062-8812-42ed-e8c5-db411e454739"
      },
      "source": [
        "def matingPool(population, selectionResults):\n",
        "  matingpool = []\n",
        "  for i in range(0, len(selectionResults)):\n",
        "    index = selectionResults[i]\n",
        "    matingpool.append(population[index])\n",
        "  return matingpool\n",
        "currentGen = pop\n",
        "matingpool = matingPool(currentGen, selectionResults)\n",
        "print(\"matingPool :\",matingpool)"
      ],
      "execution_count": null,
      "outputs": [
        {
          "output_type": "stream",
          "name": "stdout",
          "text": [
            "matingPool : [[(160,193), (19,178), (30,25), (65,183), (170,63), (199,175)], [(65,183), (30,25), (19,178), (199,175), (170,63), (160,193)], [(65,183), (19,178), (160,193), (30,25), (199,175), (170,63)], [(199,175), (19,178), (160,193), (170,63), (30,25), (65,183)]]\n"
          ]
        }
      ]
    },
    {
      "cell_type": "code",
      "metadata": {
        "colab": {
          "base_uri": "https://localhost:8080/"
        },
        "id": "Z-BgYn8SisYB",
        "outputId": "010d07e6-c240-4f64-c16f-54021dd70087"
      },
      "source": [
        "def breedPopulation(matingpool, eliteSize):\n",
        "  children = []\n",
        "  length = len(matingpool) - eliteSize\n",
        "  pool = random.sample(matingpool, len(matingpool))\n",
        "\n",
        "  for i in range(0,eliteSize):\n",
        "    children.append(matingpool[i])\n",
        "  for i in range(0, length):\n",
        "    child = breed(pool[i], pool[len(matingpool)-i-1])\n",
        "    children.append(child)\n",
        "  return children\n",
        "\n",
        "def breed(parent1, parent2):\n",
        "  child = []\n",
        "  childP1 = []\n",
        "  childP2 = []\n",
        "  geneA = int(random.random() * len(parent1))\n",
        "  geneB = int(random.random() * len(parent1))\n",
        "  startGene = min(geneA, geneB)\n",
        "  endGene = max(geneA, geneB)\n",
        "  for i in range(startGene, endGene):\n",
        "    childP1.append(parent1[i])\n",
        "  childP2 = [item for item in parent2 if item not in childP1]\n",
        "  child = childP1 + childP2\n",
        "  return child\n",
        "children = breedPopulation(matingpool, eliteSize)\n",
        "print (\"chidren :\", children)"
      ],
      "execution_count": null,
      "outputs": [
        {
          "output_type": "stream",
          "name": "stdout",
          "text": [
            "chidren : [[(160,193), (19,178), (30,25), (65,183), (170,63), (199,175)], [(65,183), (30,25), (19,178), (199,175), (170,63), (160,193)], [(170,63), (30,25), (160,193), (19,178), (65,183), (199,175)], [(65,183), (19,178), (160,193), (30,25), (199,175), (170,63)]]\n"
          ]
        }
      ]
    },
    {
      "cell_type": "code",
      "metadata": {
        "colab": {
          "base_uri": "https://localhost:8080/"
        },
        "id": "2jZEnXlujXuC",
        "outputId": "7d6a5f6b-912b-4a4b-827b-fbc02682c1e7"
      },
      "source": [
        "def mutatePopulation(population, mutationRate):\n",
        "  mutatedPop = []\n",
        "  for ind in range(0, len(population)):\n",
        "    mutatedInd = mutate(population[ind],mutationRate)\n",
        "    mutatedPop.append(mutatedInd)\n",
        "  return mutatedPop\n",
        "\n",
        "def mutate(individual, mutationRate):\n",
        "  for swapped in range(len(individual)):\n",
        "    if(random.random() < mutationRate):\n",
        "      swapWith = int(random.random() * len(individual))\n",
        "      city1 = individual[swapped]\n",
        "      city2 = individual[swapWith]\n",
        "      individual[swapped] = city2\n",
        "      individual[swapWith] = city1\n",
        "  return individual\n",
        "\n",
        "mutationRate = 0.01\n",
        "children = mutatePopulation(children, mutationRate)\n",
        "nextGeneration = children\n",
        "print (\"nextGeneration :\",nextGeneration)"
      ],
      "execution_count": null,
      "outputs": [
        {
          "output_type": "stream",
          "name": "stdout",
          "text": [
            "nextGeneration : [[(160,193), (19,178), (30,25), (65,183), (170,63), (199,175)], [(65,183), (30,25), (19,178), (199,175), (170,63), (160,193)], [(170,63), (30,25), (160,193), (19,178), (65,183), (199,175)], [(65,183), (19,178), (160,193), (30,25), (199,175), (170,63)]]\n"
          ]
        }
      ]
    },
    {
      "cell_type": "code",
      "metadata": {
        "colab": {
          "base_uri": "https://localhost:8080/"
        },
        "id": "7LBOPnw5jv3_",
        "outputId": "3f31f7ae-9911-461c-f797-4e7d7b599c3f"
      },
      "source": [
        "def geneticAlgorithm(population, popSize, eliteSize,mutationRate, generations):\n",
        "  pop = initialPopulation(popSize, population)\n",
        "  print(\"Initial distance: \" + str(1 / rankRoutes(pop)[0][1]))\n",
        "\n",
        "  for i in range(0, generations):\n",
        "    pop = nextGeneration(pop,eliteSize,mutationRate)\n",
        "\n",
        "  print(\"Final distance: \" + str(1 /rankRoutes(pop)[0][1]))\n",
        "  bestRouteIndex = rankRoutes(pop)[0][0]\n",
        "  bestRoute = pop[bestRouteIndex]\n",
        "  return bestRoute\n",
        "\n",
        "def nextGeneration(currentGen, eliteSize, mutationRate):\n",
        "  popRanked = rankRoutes(currentGen)\n",
        "  selectionResults = selection(popRanked, eliteSize)\n",
        "  matingpool = matingPool(currentGen,selectionResults)\n",
        "  children = breedPopulation(matingpool, eliteSize)\n",
        "  nextGeneration = mutatePopulation(children,mutationRate)\n",
        "  return nextGeneration\n",
        "\n",
        "geneticAlgorithm(population=cityList, popSize = 10, eliteSize=2, mutationRate=0.01, generations=500)"
      ],
      "execution_count": null,
      "outputs": [
        {
          "output_type": "stream",
          "name": "stdout",
          "text": [
            "Initial distance: 652.3074636715891\n",
            "Final distance: 598.9032486381128\n"
          ]
        },
        {
          "output_type": "execute_result",
          "data": {
            "text/plain": [
              "[(65,183), (160,193), (199,175), (170,63), (30,25), (19,178)]"
            ]
          },
          "metadata": {},
          "execution_count": 14
        }
      ]
    }
  ]
}