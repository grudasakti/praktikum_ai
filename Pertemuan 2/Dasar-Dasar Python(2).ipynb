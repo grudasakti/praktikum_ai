{
  "cells": [
    {
      "cell_type": "markdown",
      "metadata": {
        "id": "Sf3zUh46tSvV"
      },
      "source": [
        "# Fungsi"
      ]
    },
    {
      "cell_type": "code",
      "execution_count": 39,
      "metadata": {
        "id": "2HbkxcWZtyNo"
      },
      "outputs": [],
      "source": [
        "#1. mendefinisikan fungsi\n",
        "def sapa(nama):\n",
        "  \"\"\"Fungi ini untuk menyapa sesuai nama dari parameter\"\"\"\n",
        "  print(\"Hi, \" + nama)\n",
        "  return nama\n"
      ]
    },
    {
      "cell_type": "code",
      "execution_count": 36,
      "metadata": {
        "colab": {
          "base_uri": "https://localhost:8080/"
        },
        "id": "WM-WUqePzODa",
        "outputId": "1f5161e1-1169-41b2-913b-9e05aabb820f"
      },
      "outputs": [
        {
          "name": "stdout",
          "output_type": "stream",
          "text": [
            "Hi, ali\n"
          ]
        }
      ],
      "source": [
        "#2. Memanggil fungsi\n",
        "sapa('ali')"
      ]
    },
    {
      "cell_type": "code",
      "execution_count": 37,
      "metadata": {
        "colab": {
          "base_uri": "https://localhost:8080/"
        },
        "id": "Ojhg6U_MwQ-_",
        "outputId": "f2239148-b5df-46cf-9c2a-d0b82808b91c"
      },
      "outputs": [
        {
          "name": "stdout",
          "output_type": "stream",
          "text": [
            "Fungi ini untuk menyapa sesuai nama dari parameter\n"
          ]
        }
      ],
      "source": [
        "#3. Docstring\n",
        "print(sapa.__doc__)"
      ]
    },
    {
      "cell_type": "code",
      "execution_count": 40,
      "metadata": {
        "colab": {
          "base_uri": "https://localhost:8080/"
        },
        "id": "PrQdvBhmzbqu",
        "outputId": "24ee8f32-da59-4e68-fce2-f733f7234122"
      },
      "outputs": [
        {
          "name": "stdout",
          "output_type": "stream",
          "text": [
            "Hi, ali\n",
            "ali\n"
          ]
        }
      ],
      "source": [
        "#4. return\n",
        "keluaran = sapa('ali')\n",
        "print(keluaran)"
      ]
    },
    {
      "cell_type": "markdown",
      "metadata": {
        "id": "xMKnRoKT0bKa"
      },
      "source": [
        "# Argumen Fungsi"
      ]
    },
    {
      "cell_type": "markdown",
      "metadata": {
        "id": "Br__CjqG4kI9"
      },
      "source": [
        "### argumen wajib"
      ]
    },
    {
      "cell_type": "code",
      "execution_count": 41,
      "metadata": {
        "colab": {
          "base_uri": "https://localhost:8080/",
          "height": 200
        },
        "id": "k-QFmeMRz3B2",
        "outputId": "0b4c86af-0cf7-4c00-9512-2852717b1019"
      },
      "outputs": [
        {
          "name": "stdout",
          "output_type": "stream",
          "text": [
            "Hi, ai\n"
          ]
        },
        {
          "ename": "TypeError",
          "evalue": "ignored",
          "output_type": "error",
          "traceback": [
            "\u001b[0;31m---------------------------------------------------------------------------\u001b[0m",
            "\u001b[0;31mTypeError\u001b[0m                                 Traceback (most recent call last)",
            "\u001b[0;32m<ipython-input-41-c829e67fd73b>\u001b[0m in \u001b[0;36m<module>\u001b[0;34m()\u001b[0m\n\u001b[1;32m      1\u001b[0m \u001b[0msapa\u001b[0m\u001b[0;34m(\u001b[0m\u001b[0;34m'ai'\u001b[0m\u001b[0;34m)\u001b[0m\u001b[0;34m\u001b[0m\u001b[0;34m\u001b[0m\u001b[0m\n\u001b[0;32m----> 2\u001b[0;31m \u001b[0msapa\u001b[0m\u001b[0;34m(\u001b[0m\u001b[0;34m)\u001b[0m\u001b[0;34m\u001b[0m\u001b[0;34m\u001b[0m\u001b[0m\n\u001b[0m",
            "\u001b[0;31mTypeError\u001b[0m: sapa() missing 1 required positional argument: 'nama'"
          ]
        }
      ],
      "source": [
        "sapa('ai')\n",
        "sapa()"
      ]
    },
    {
      "cell_type": "markdown",
      "metadata": {
        "id": "WvnHZDlZ4nEo"
      },
      "source": [
        "### argumen kata kunci"
      ]
    },
    {
      "cell_type": "code",
      "execution_count": 44,
      "metadata": {
        "colab": {
          "base_uri": "https://localhost:8080/"
        },
        "id": "52nq0SdI8Brc",
        "outputId": "a6d3102e-9880-4c56-cc6e-b7f7431b9ffe"
      },
      "outputs": [
        {
          "name": "stdout",
          "output_type": "stream",
          "text": [
            "Nama :  Ria\n",
            "Usia :  20\n"
          ]
        }
      ],
      "source": [
        "#definisi fungsi\n",
        "def print_info(nama, usia):\n",
        "  \"\"\" Fungsi ini menampilkan info yang dimasukkan\"\"\"\n",
        "  print('Nama : ', nama)\n",
        "  print('Usia : ', usia)\n",
        "\n",
        "#memanggil fungsi\n",
        "print_info(usia = 20, nama = 'Ria')"
      ]
    },
    {
      "cell_type": "markdown",
      "metadata": {
        "id": "BEL-wPvW822W"
      },
      "source": [
        "### argumen default"
      ]
    },
    {
      "cell_type": "code",
      "execution_count": 46,
      "metadata": {
        "colab": {
          "base_uri": "https://localhost:8080/"
        },
        "id": "sbn6C31J84za",
        "outputId": "c4514536-dfff-4205-bc27-a37ab8e2215b"
      },
      "outputs": [
        {
          "name": "stdout",
          "output_type": "stream",
          "text": [
            "Nama :  Galih\n",
            "Usia :  20\n",
            "Nama :  Galih\n",
            "Usia :  17\n"
          ]
        }
      ],
      "source": [
        "#definisi fungsi\n",
        "def print_info(nama, usia=17):\n",
        "  \"\"\" Fungsi ini menampilkan info yang dimasukkan\"\"\"\n",
        "  print('Nama : ', nama)\n",
        "  print('Usia : ', usia)\n",
        "\n",
        "#memanggil fungsi\n",
        "print_info(usia = 20, nama = 'Galih')\n",
        "\n",
        "#Pemanggilan fungsi tidak menyediakan argumen usia\n",
        "print_info(nama = 'Galih')"
      ]
    },
    {
      "cell_type": "markdown",
      "metadata": {
        "id": "m2kvzZBt95c2"
      },
      "source": [
        "### argumen dengan panjang sembarang"
      ]
    },
    {
      "cell_type": "code",
      "execution_count": 48,
      "metadata": {
        "colab": {
          "base_uri": "https://localhost:8080/"
        },
        "id": "o65bCx5t9_pG",
        "outputId": "f48c994c-1a18-4b87-af20-ce002850c3ab"
      },
      "outputs": [
        {
          "name": "stdout",
          "output_type": "stream",
          "text": [
            "Outputnya adalah: \n",
            "10\n",
            "Outputnya adalah: \n",
            "10\n",
            "30\n",
            "50\n",
            "70\n",
            "8\n"
          ]
        }
      ],
      "source": [
        "# Definisi fungsi \n",
        "def print_info( arg1, *vartuple ): \n",
        "    \"\"\"Fungsi untuk menampilkan nilai argumen sembarang yang dilewatkan\"\"\" \n",
        "    print (\"Outputnya adalah: \") \n",
        "    print (arg1) \n",
        "    for var in vartuple: \n",
        "        print (var) \n",
        " \n",
        "# Pemanggilan fungsi\n",
        "# Satu argumen \n",
        "print_info( 10 ) \n",
        " \n",
        "# Empat argumen \n",
        "print_info( 10, 30, 50, 70,8 )"
      ]
    },
    {
      "cell_type": "markdown",
      "metadata": {
        "id": "OYMU7upV-Rxd"
      },
      "source": [
        "## Modul"
      ]
    },
    {
      "cell_type": "code",
      "execution_count": 49,
      "metadata": {
        "colab": {
          "base_uri": "https://localhost:8080/"
        },
        "id": "mehC9Bik-Un5",
        "outputId": "61b1c45e-d782-4c62-d817-0073182d7c71"
      },
      "outputs": [
        {
          "name": "stdout",
          "output_type": "stream",
          "text": [
            "Nilai phi :  3.141592653589793\n"
          ]
        }
      ],
      "source": [
        "import math \n",
        "print(\"Nilai phi : \", math.pi)"
      ]
    },
    {
      "cell_type": "code",
      "execution_count": 50,
      "metadata": {
        "colab": {
          "base_uri": "https://localhost:8080/"
        },
        "id": "c_tNtYvyfXbR",
        "outputId": "f7c80145-807e-44ca-a1d1-af0c28399264"
      },
      "outputs": [
        {
          "name": "stdout",
          "output_type": "stream",
          "text": [
            "Nilai phi :  3.141592653589793\n"
          ]
        }
      ],
      "source": [
        "import math as m\n",
        "print(\"Nilai phi : \", m.pi)"
      ]
    },
    {
      "cell_type": "code",
      "execution_count": 52,
      "metadata": {
        "colab": {
          "base_uri": "https://localhost:8080/"
        },
        "id": "7M-DZlCjfjNw",
        "outputId": "998be2a5-708f-4fc6-8f54-160390bcfcf2"
      },
      "outputs": [
        {
          "name": "stdout",
          "output_type": "stream",
          "text": [
            "Nilai phi: 3.141592653589793\n",
            "Nilai phi: 2.718281828459045\n"
          ]
        }
      ],
      "source": [
        "from math import pi, e\n",
        "print(\"Nilai phi:\", pi)\n",
        "print(\"Nilai phi:\", e)"
      ]
    },
    {
      "cell_type": "code",
      "execution_count": 53,
      "metadata": {
        "colab": {
          "base_uri": "https://localhost:8080/"
        },
        "id": "vA9BYh1Uf-57",
        "outputId": "53a00e3b-7d5c-440b-98be-3ecd74f0a2c9"
      },
      "outputs": [
        {
          "name": "stdout",
          "output_type": "stream",
          "text": [
            "Nilai phi: 3.141592653589793\n"
          ]
        }
      ],
      "source": [
        "from math import *\n",
        "print(\"Nilai phi:\", pi)"
      ]
    },
    {
      "cell_type": "markdown",
      "metadata": {
        "id": "esJX1TvA_4ns"
      },
      "source": [
        "# Oop"
      ]
    },
    {
      "cell_type": "code",
      "execution_count": 54,
      "metadata": {
        "id": "QBP8MutU_78n"
      },
      "outputs": [],
      "source": [
        "class Karyawan:\n",
        "    '''Dasar kelas untuk semua karyawan'''\n",
        "    jumlah_karyawan = 0\n",
        "\n",
        "    def __init__(self, nama, gaji):\n",
        "        self.nama = nama\n",
        "        self.gaji = gaji\n",
        "        Karyawan.jumlah_karyawan += 1\n",
        "\n",
        "    def tampilkan_jumlah(self):\n",
        "        print(\"Total karyawan:\", Karyawan.jumlah_karyawan)\n",
        "\n",
        "    def tampilkan_profil(self):\n",
        "        print(\"Nama :\", self.nama)\n",
        "        print(\"Gaji :\", self.gaji)\n",
        "        print()"
      ]
    },
    {
      "cell_type": "markdown",
      "metadata": {
        "id": "i7vEL1WMCfbr"
      },
      "source": [
        "### instansiasi objek"
      ]
    },
    {
      "cell_type": "code",
      "execution_count": 55,
      "metadata": {
        "id": "UH-i_FmACKlr"
      },
      "outputs": [],
      "source": [
        "# Membuat objek pertama dari kelas Karyawan\n",
        "karyawan1 = Karyawan(\"Sarah\", 1000000)\n",
        "\n",
        "# Membuat objek kedua dari kelas Karyawan\n",
        "karyawan2 = Karyawan(\"Budi\", 2000000)"
      ]
    },
    {
      "cell_type": "markdown",
      "metadata": {
        "id": "ZDgvZveOCl03"
      },
      "source": [
        "### akses attribute objek"
      ]
    },
    {
      "cell_type": "code",
      "execution_count": 56,
      "metadata": {
        "colab": {
          "base_uri": "https://localhost:8080/"
        },
        "id": "K5DB9vYdCpbt",
        "outputId": "c7fbd141-f083-4f83-9f78-8a64af1ebf22"
      },
      "outputs": [
        {
          "name": "stdout",
          "output_type": "stream",
          "text": [
            "Nama : Sarah\n",
            "Gaji : 1000000\n",
            "\n",
            "Nama : Budi\n",
            "Gaji : 2000000\n",
            "\n",
            "Total karyawan : 2\n"
          ]
        }
      ],
      "source": [
        "karyawan1.tampilkan_profil()\n",
        "karyawan2.tampilkan_profil()\n",
        "print(\"Total karyawan :\", Karyawan.jumlah_karyawan)"
      ]
    },
    {
      "cell_type": "markdown",
      "metadata": {
        "id": "bkAHtWaKC68t"
      },
      "source": [
        "### pewarisan kelas"
      ]
    },
    {
      "cell_type": "code",
      "execution_count": 57,
      "metadata": {
        "colab": {
          "base_uri": "https://localhost:8080/"
        },
        "id": "9uJxU9fZC8ts",
        "outputId": "687bcd4d-8fb7-4333-9693-eb10bb049e21"
      },
      "outputs": [
        {
          "name": "stdout",
          "output_type": "stream",
          "text": [
            "Memanggil konstruktor Anak\n",
            "Memanggil metode Anak\n",
            "Memanggil metode induk\n",
            "Attribut induk : 200\n"
          ]
        }
      ],
      "source": [
        "class Induk: # mendefinisikan kelas Induk\n",
        "    parent_attr = 100\n",
        "\n",
        "    def __init__(self):\n",
        "        print (\"Memanggil konstruktor induk\")\n",
        "\n",
        "    def parent_method(self):\n",
        "        print ('Memanggil metode induk')\n",
        "\n",
        "    def set_attr(self, attr):\n",
        "        Induk.parent_attr = attr\n",
        "\n",
        "    def get_attr(self):\n",
        "        print (\"Attribut induk :\", Induk.parent_attr)\n",
        "\n",
        "class Anak(Induk): # mendefinisikan kelas Anak\n",
        "    def __init__(self):\n",
        "        print (\"Memanggil konstruktor Anak\")\n",
        "\n",
        "    def child_method(self):\n",
        "        print ('Memanggil metode Anak')\n",
        "\n",
        "c = Anak() # instansiasi kelas Anak\n",
        "c.child_method() # Anak memanggil metodenya\n",
        "\n",
        "c.parent_method() # memanggil metode Induk\n",
        "c.set_attr(200) # kembali memanggil metode Induk\n",
        "c.get_attr() # kembali memanggil metode Induk"
      ]
    },
    {
      "cell_type": "markdown",
      "metadata": {
        "id": "M43qwi2GDQfJ"
      },
      "source": [
        "### Overriding"
      ]
    },
    {
      "cell_type": "code",
      "execution_count": 58,
      "metadata": {
        "colab": {
          "base_uri": "https://localhost:8080/"
        },
        "id": "R_ALs1S3DQDP",
        "outputId": "cf75295c-3624-4a73-d62b-d3b89fa6f17c"
      },
      "outputs": [
        {
          "name": "stdout",
          "output_type": "stream",
          "text": [
            "Memanggil metode anak\n"
          ]
        }
      ],
      "source": [
        "class Induk:\n",
        "    def my_method(self):\n",
        "        print(\"Memanggil metode induk\")\n",
        "\n",
        "class Anak(Induk):\n",
        "    def my_method(self):\n",
        "        print(\"Memanggil metode anak\")\n",
        "\n",
        "c = Anak()\n",
        "c.my_method()"
      ]
    },
    {
      "cell_type": "markdown",
      "metadata": {
        "id": "5m1weopOGkhu"
      },
      "source": [
        "### overloading operator"
      ]
    },
    {
      "cell_type": "code",
      "execution_count": 59,
      "metadata": {
        "colab": {
          "base_uri": "https://localhost:8080/"
        },
        "id": "psnuOP7iGpRg",
        "outputId": "f561d15b-f991-4405-ab7b-e21f062f6f22"
      },
      "outputs": [
        {
          "name": "stdout",
          "output_type": "stream",
          "text": [
            "Vector (9, 8)\n"
          ]
        }
      ],
      "source": [
        "class Vector:\n",
        "    def __init__(self, a, b):\n",
        "        self.a = a\n",
        "        self.b = b\n",
        "\n",
        "    def __str__(self):\n",
        "        return 'Vector (%d, %d)' % (self.a, self.b)\n",
        "\n",
        "    def __add__(self, other):\n",
        "        return Vector(self.a + other.a, self.b + other.b)\n",
        "\n",
        "v1 = Vector(5, 10)\n",
        "v2 = Vector(4, -2)\n",
        "\n",
        "print(v1 + v2)"
      ]
    },
    {
      "cell_type": "markdown",
      "metadata": {
        "id": "Hb38m_TwG0is"
      },
      "source": [
        "### menyembunyikan data"
      ]
    },
    {
      "cell_type": "code",
      "execution_count": 61,
      "metadata": {
        "colab": {
          "base_uri": "https://localhost:8080/"
        },
        "id": "UXTLcsiKG2qB",
        "outputId": "37d755dd-e09a-46be-f732-c95aa954df1b"
      },
      "outputs": [
        {
          "name": "stdout",
          "output_type": "stream",
          "text": [
            "1\n",
            "2\n",
            "2\n"
          ]
        }
      ],
      "source": [
        "class Counter:\n",
        "    __secret_count = 0\n",
        "    \n",
        "    def count(self):\n",
        "        self.__secret_count += 1\n",
        "        print(self.__secret_count)\n",
        "\n",
        "counter = Counter()\n",
        "counter.count()\n",
        "counter.count()\n",
        "#print(counter.__secret_count)\n",
        "print(counter._Counter__secret_count) #buat akses atribut"
      ]
    }
  ],
  "metadata": {
    "colab": {
      "name": "Pertemuan2.ipynb",
      "provenance": []
    },
    "kernelspec": {
      "display_name": "Python 3",
      "name": "python3"
    },
    "language_info": {
      "name": "python"
    }
  },
  "nbformat": 4,
  "nbformat_minor": 0
}
