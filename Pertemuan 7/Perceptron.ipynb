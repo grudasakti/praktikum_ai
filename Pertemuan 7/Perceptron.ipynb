{
  "cells": [
    {
      "cell_type": "markdown",
      "metadata": {
        "id": "eBdtyPmuc9Bg"
      },
      "source": [
        "#Perceptron"
      ]
    },
    {
      "cell_type": "markdown",
      "metadata": {
        "id": "ztxFmYibdEbk"
      },
      "source": [
        "Perceptron merupakan  konfigurasi Jaringan Saraf Tiruan yang relative sederhana. Perceptron terdiri dari input dan output, tanpa hidden layer."
      ]
    },
    {
      "cell_type": "markdown",
      "metadata": {
        "id": "cmfr2y7Tdg3j"
      },
      "source": [
        "![image.png](data:image/png;base64,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)"
      ]
    },
    {
      "cell_type": "markdown",
      "metadata": {
        "id": "Lk7SXasFD7Rl"
      },
      "source": [
        "###Gerbang Logika AND\n",
        "![image.png](data:image/png;base64,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)"
      ]
    },
    {
      "cell_type": "markdown",
      "metadata": {
        "id": "M7Q8bceeIPEK"
      },
      "source": [
        "import library numpy"
      ]
    },
    {
      "cell_type": "code",
      "execution_count": null,
      "metadata": {
        "id": "FVeLQykZIYD-"
      },
      "outputs": [],
      "source": [
        "import numpy as np"
      ]
    },
    {
      "cell_type": "markdown",
      "metadata": {
        "id": "aRf6aG9EIep0"
      },
      "source": [
        "membuat perceptron"
      ]
    },
    {
      "cell_type": "code",
      "execution_count": null,
      "metadata": {
        "id": "6MOG-NUbIhJF"
      },
      "outputs": [],
      "source": [
        "class Perceptron(object):\n",
        "  def __init__(self, no_of_inputs, threshold=100, learning_rate=0.01):\n",
        "    self.threshold = threshold\n",
        "    self.learning_rate = learning_rate\n",
        "    self.weights = np.zeros(no_of_inputs + 1)\n",
        "  \n",
        "  def predict(self, inputs):\n",
        "    summation = np.dot(inputs, self.weights[1:]) + self.weights[0]\n",
        "    if summation > 0:\n",
        "      activation = 1\n",
        "    else:\n",
        "      activation = 0\n",
        "    return activation\n",
        "\n",
        "  def train(self, training_inputs, labels):\n",
        "    for _ in range(self.threshold):\n",
        "      for inputs, label in zip(training_inputs, labels):\n",
        "        prediction = self.predict(inputs)\n",
        "        self.weights[1:] += self.learning_rate * (label - prediction) * inputs\n",
        "        self.weights[0] += self.learning_rate * (label - prediction)"
      ]
    },
    {
      "cell_type": "markdown",
      "metadata": {
        "id": "_xeRibPjLbd0"
      },
      "source": [
        "training input"
      ]
    },
    {
      "cell_type": "code",
      "execution_count": null,
      "metadata": {
        "id": "Mv8m24w4Ld1t"
      },
      "outputs": [],
      "source": [
        "#training input\n",
        "training_inputs = []\n",
        "training_inputs.append(np.array([1, 1]))\n",
        "training_inputs.append(np.array([1, 0]))\n",
        "training_inputs.append(np.array([0, 1]))\n",
        "training_inputs.append(np.array([0, 0]))\n",
        "\n",
        "#labels\n",
        "labels = np.array([1, 0, 0, 0])\n",
        "\n",
        "perceptron = Perceptron(2)\n",
        "perceptron.train(training_inputs, labels)"
      ]
    },
    {
      "cell_type": "markdown",
      "metadata": {
        "id": "e2Y2ZJiXNPvG"
      },
      "source": [
        "melakukan prediksi"
      ]
    },
    {
      "cell_type": "code",
      "execution_count": null,
      "metadata": {
        "colab": {
          "base_uri": "https://localhost:8080/"
        },
        "id": "jkfubGLoNTce",
        "outputId": "707f090d-aa93-4288-8851-72fe80ec2d22"
      },
      "outputs": [
        {
          "name": "stdout",
          "output_type": "stream",
          "text": [
            "prediksi output dari [1 1] adalah 1\n",
            "prediksi output dari [0 1] adalah 0\n"
          ]
        }
      ],
      "source": [
        "inputs = np.array([1, 1])\n",
        "print(\"prediksi output dari\", inputs, \"adalah\", perceptron.predict(inputs))\n",
        "\n",
        "inputs = np.array([0, 1])\n",
        "print(\"prediksi output dari\", inputs, \"adalah\", perceptron.predict(inputs))"
      ]
    }
  ],
  "metadata": {
    "colab": {
      "name": "Perceptron.ipynb",
      "provenance": []
    },
    "kernelspec": {
      "display_name": "Python 3",
      "name": "python3"
    },
    "language_info": {
      "name": "python"
    }
  },
  "nbformat": 4,
  "nbformat_minor": 0
}
